{
 "cells": [
  {
   "cell_type": "code",
   "execution_count": 1,
   "metadata": {},
   "outputs": [],
   "source": [
    "%load_ext pycodestyle_magic"
   ]
  },
  {
   "cell_type": "code",
   "execution_count": 2,
   "metadata": {},
   "outputs": [],
   "source": [
    "# Activamos alertas de estilo\n",
    "%pycodestyle_on"
   ]
  },
  {
   "cell_type": "markdown",
   "metadata": {},
   "source": [
    "# Ejercicio 1\n",
    "\n",
    "Los siguientes ejercicios se realizarán utilizando el dataset `co2_emissions_canada.csv` proporcionado, y que contiene la información sobre consumo de combustible y emisiones de CO2 en vehículos canadienses. Cada fila representa un vehículo. Toda la información relativa a este dataset se podrá encontrar en la siguiente [URL](https://www.kaggle.com/debajyotipodder/co2-emission-by-vehicles/version/1). Para hacer los ejercios tenéis que utilizar el dataset que os proporcionamos.\n",
    "\n",
    "Los campos del dataset son:\t\t\t\t\t\t\t\t\t\n",
    "\n",
    "- Make: Empresa encargada del diseño y facturación del vehiculo.\n",
    "- Model: Modelo del vehiculo.\n",
    "- Vehicle Class: Clase del vehiculo, pude ser 'COMPACT', 'SUV - SMALL', 'MID-SIZE', 'TWO-SEATER', 'MINICOMPACT', 'SUBCOMPACT', 'FULL-SIZE', 'STATION WAGON - SMALL', 'SUV - STANDARD', 'VAN - CARGO', 'VAN - PASSENGER', 'PICKUP TRUCK - STANDARD', 'MINIVAN', 'SPECIAL PURPOSE VEHICLE', 'STATION WAGON - MID-SIZE', 'PICKUP TRUCK - SMALL'.\n",
    "- Engine Size(L): Medida del motor expresado el Litros, es decir el volumen total de los cilindros del motor.\n",
    "- Cylinders: Número de cilindros del motor.\n",
    "- Transmission: Tipo de transmisión del vehiculo.\n",
    "- Fuel Type: Tipo de combustible que utiliza el vehiculo.\n",
    "- Fuel Consumption City (L/100 km): Consumo de combustible del vehiculo en ciudad en litros cada 100 km.\n",
    "- Fuel Consumption Hwy (L/100 km): Consumo de combustible del vehiculo en autopista en litros cada 100 km.\n",
    "- Fuel Consumption Comb (L/100 km): Consumo de combustible del vehiculo en una combinación de autopista y ciudad en litros cada 100 km.\n",
    "- CO2 Emissions(g/km): Emisiones de CO2 en gramos por kilometro."
   ]
  },
  {
   "cell_type": "markdown",
   "metadata": {},
   "source": [
    "1. Cargad el dataset y mostrad por pantalla los 7 primeros elementos.\n",
    "2. De estos 7 primeros elementos del punto 1, mostrad los 2 últimos. \n",
    "\n",
    "**Todos el ejericios se deben resolver partiendo del dataframe obtenido en este apartado y no es necesario cargarlo cada vez que se utiliza.**\n",
    "\n",
    "La carga del dataset debe hacerse definiendo una función que tenga como parámetro de entrada la ruta de acceso al fichero `co2_emissions_canada.csv` y como resultado devuelva un dataframe.\n",
    "\n",
    "**Nota 1:** La función para leer el archivo `co2_emissions_canada.csv` no debe utilizar rutas absolutas sino relativas.\n",
    "\n",
    "**Nota 2:** Para obtener el punto de type hints la función debe estar programada utilizando type hints.\n",
    "\n",
    "**Pista 1**: Recordad que podéis utilizar librerías como `pandas` para cargar el conjunto de datos de forma sencilla y obtener un dataframe.\n",
    "\n",
    "**Pista 2**: El type hint de un dataframe es *pd.DataFrame*\n",
    "\n",
    "<span style=\"font-family: Courier New; background-color: #82b74b; color: #000000; padding: 3px; \">SM</span> **(1 punto)**"
   ]
  },
  {
   "cell_type": "code",
   "execution_count": 3,
   "metadata": {},
   "outputs": [],
   "source": [
    "# library\n",
    "import pandas as pd\n",
    "import numpy as np"
   ]
  },
  {
   "cell_type": "code",
   "execution_count": 4,
   "metadata": {},
   "outputs": [],
   "source": [
    "# Respuesta 1.1\n",
    "# carga de Database usando la loibrerria panda\n",
    "data = pd.read_csv('data/co2_emissions_canada.csv')"
   ]
  },
  {
   "cell_type": "code",
   "execution_count": 5,
   "metadata": {},
   "outputs": [
    {
     "data": {
      "text/html": [
       "<div>\n",
       "<style scoped>\n",
       "    .dataframe tbody tr th:only-of-type {\n",
       "        vertical-align: middle;\n",
       "    }\n",
       "\n",
       "    .dataframe tbody tr th {\n",
       "        vertical-align: top;\n",
       "    }\n",
       "\n",
       "    .dataframe thead th {\n",
       "        text-align: right;\n",
       "    }\n",
       "</style>\n",
       "<table border=\"1\" class=\"dataframe\">\n",
       "  <thead>\n",
       "    <tr style=\"text-align: right;\">\n",
       "      <th></th>\n",
       "      <th>Make</th>\n",
       "      <th>Model</th>\n",
       "      <th>Vehicle Class</th>\n",
       "      <th>Engine Size(L)</th>\n",
       "      <th>Cylinders</th>\n",
       "      <th>Transmission</th>\n",
       "      <th>Fuel Type</th>\n",
       "      <th>Fuel Consumption City (L/100 km)</th>\n",
       "      <th>Fuel Consumption Hwy (L/100 km)</th>\n",
       "      <th>Fuel Consumption Comb (L/100 km)</th>\n",
       "      <th>Fuel Consumption Comb (mpg)</th>\n",
       "      <th>CO2 Emissions(g/km)</th>\n",
       "    </tr>\n",
       "  </thead>\n",
       "  <tbody>\n",
       "    <tr>\n",
       "      <th>0</th>\n",
       "      <td>ACURA</td>\n",
       "      <td>MDX 4WD</td>\n",
       "      <td>SUV - SMALL</td>\n",
       "      <td>3.5</td>\n",
       "      <td>6</td>\n",
       "      <td>AS6</td>\n",
       "      <td>Z</td>\n",
       "      <td>12.7</td>\n",
       "      <td>9.1</td>\n",
       "      <td>11.1</td>\n",
       "      <td>25</td>\n",
       "      <td>255</td>\n",
       "    </tr>\n",
       "    <tr>\n",
       "      <th>1</th>\n",
       "      <td>ACURA</td>\n",
       "      <td>TL</td>\n",
       "      <td>MID-SIZE</td>\n",
       "      <td>3.5</td>\n",
       "      <td>6</td>\n",
       "      <td>AS6</td>\n",
       "      <td>Z</td>\n",
       "      <td>11.8</td>\n",
       "      <td>8.1</td>\n",
       "      <td>10.1</td>\n",
       "      <td>28</td>\n",
       "      <td>232</td>\n",
       "    </tr>\n",
       "    <tr>\n",
       "      <th>2</th>\n",
       "      <td>ACURA</td>\n",
       "      <td>TL AWD</td>\n",
       "      <td>MID-SIZE</td>\n",
       "      <td>3.7</td>\n",
       "      <td>6</td>\n",
       "      <td>M6</td>\n",
       "      <td>Z</td>\n",
       "      <td>13.4</td>\n",
       "      <td>9.5</td>\n",
       "      <td>11.6</td>\n",
       "      <td>24</td>\n",
       "      <td>267</td>\n",
       "    </tr>\n",
       "    <tr>\n",
       "      <th>3</th>\n",
       "      <td>ACURA</td>\n",
       "      <td>TSX</td>\n",
       "      <td>COMPACT</td>\n",
       "      <td>3.5</td>\n",
       "      <td>6</td>\n",
       "      <td>AS5</td>\n",
       "      <td>Z</td>\n",
       "      <td>12.1</td>\n",
       "      <td>8.3</td>\n",
       "      <td>10.4</td>\n",
       "      <td>27</td>\n",
       "      <td>239</td>\n",
       "    </tr>\n",
       "    <tr>\n",
       "      <th>4</th>\n",
       "      <td>ASTON MARTIN</td>\n",
       "      <td>RAPIDE</td>\n",
       "      <td>SUBCOMPACT</td>\n",
       "      <td>5.9</td>\n",
       "      <td>12</td>\n",
       "      <td>A6</td>\n",
       "      <td>Z</td>\n",
       "      <td>18.0</td>\n",
       "      <td>12.6</td>\n",
       "      <td>15.6</td>\n",
       "      <td>18</td>\n",
       "      <td>359</td>\n",
       "    </tr>\n",
       "    <tr>\n",
       "      <th>5</th>\n",
       "      <td>AUDI</td>\n",
       "      <td>ALLROAD QUATTRO</td>\n",
       "      <td>STATION WAGON - SMALL</td>\n",
       "      <td>2.0</td>\n",
       "      <td>4</td>\n",
       "      <td>AS8</td>\n",
       "      <td>Z</td>\n",
       "      <td>11.8</td>\n",
       "      <td>8.8</td>\n",
       "      <td>10.5</td>\n",
       "      <td>27</td>\n",
       "      <td>242</td>\n",
       "    </tr>\n",
       "    <tr>\n",
       "      <th>6</th>\n",
       "      <td>BENTLEY</td>\n",
       "      <td>CONTINENTAL GTC</td>\n",
       "      <td>SUBCOMPACT</td>\n",
       "      <td>6.0</td>\n",
       "      <td>12</td>\n",
       "      <td>AS8</td>\n",
       "      <td>Z</td>\n",
       "      <td>20.0</td>\n",
       "      <td>12.2</td>\n",
       "      <td>16.5</td>\n",
       "      <td>17</td>\n",
       "      <td>380</td>\n",
       "    </tr>\n",
       "  </tbody>\n",
       "</table>\n",
       "</div>"
      ],
      "text/plain": [
       "           Make            Model          Vehicle Class  Engine Size(L)  \\\n",
       "0         ACURA          MDX 4WD            SUV - SMALL             3.5   \n",
       "1         ACURA               TL               MID-SIZE             3.5   \n",
       "2         ACURA           TL AWD               MID-SIZE             3.7   \n",
       "3         ACURA              TSX                COMPACT             3.5   \n",
       "4  ASTON MARTIN           RAPIDE             SUBCOMPACT             5.9   \n",
       "5          AUDI  ALLROAD QUATTRO  STATION WAGON - SMALL             2.0   \n",
       "6       BENTLEY  CONTINENTAL GTC             SUBCOMPACT             6.0   \n",
       "\n",
       "   Cylinders Transmission Fuel Type  Fuel Consumption City (L/100 km)  \\\n",
       "0          6          AS6         Z                              12.7   \n",
       "1          6          AS6         Z                              11.8   \n",
       "2          6           M6         Z                              13.4   \n",
       "3          6          AS5         Z                              12.1   \n",
       "4         12           A6         Z                              18.0   \n",
       "5          4          AS8         Z                              11.8   \n",
       "6         12          AS8         Z                              20.0   \n",
       "\n",
       "   Fuel Consumption Hwy (L/100 km)  Fuel Consumption Comb (L/100 km)  \\\n",
       "0                              9.1                              11.1   \n",
       "1                              8.1                              10.1   \n",
       "2                              9.5                              11.6   \n",
       "3                              8.3                              10.4   \n",
       "4                             12.6                              15.6   \n",
       "5                              8.8                              10.5   \n",
       "6                             12.2                              16.5   \n",
       "\n",
       "   Fuel Consumption Comb (mpg)  CO2 Emissions(g/km)  \n",
       "0                           25                  255  \n",
       "1                           28                  232  \n",
       "2                           24                  267  \n",
       "3                           27                  239  \n",
       "4                           18                  359  \n",
       "5                           27                  242  \n",
       "6                           17                  380  "
      ]
     },
     "execution_count": 5,
     "metadata": {},
     "output_type": "execute_result"
    }
   ],
   "source": [
    "# Mostrar del dataset sus 7 primeros elementos\n",
    "result_1_1 = data.head(7)\n",
    "result_1_1\n",
    "# uso del comando head() para obtener los ultimos elentos"
   ]
  },
  {
   "cell_type": "code",
   "execution_count": 6,
   "metadata": {},
   "outputs": [
    {
     "data": {
      "text/html": [
       "<div>\n",
       "<style scoped>\n",
       "    .dataframe tbody tr th:only-of-type {\n",
       "        vertical-align: middle;\n",
       "    }\n",
       "\n",
       "    .dataframe tbody tr th {\n",
       "        vertical-align: top;\n",
       "    }\n",
       "\n",
       "    .dataframe thead th {\n",
       "        text-align: right;\n",
       "    }\n",
       "</style>\n",
       "<table border=\"1\" class=\"dataframe\">\n",
       "  <thead>\n",
       "    <tr style=\"text-align: right;\">\n",
       "      <th></th>\n",
       "      <th>Make</th>\n",
       "      <th>Model</th>\n",
       "      <th>Vehicle Class</th>\n",
       "      <th>Engine Size(L)</th>\n",
       "      <th>Cylinders</th>\n",
       "      <th>Transmission</th>\n",
       "      <th>Fuel Type</th>\n",
       "      <th>Fuel Consumption City (L/100 km)</th>\n",
       "      <th>Fuel Consumption Hwy (L/100 km)</th>\n",
       "      <th>Fuel Consumption Comb (L/100 km)</th>\n",
       "      <th>Fuel Consumption Comb (mpg)</th>\n",
       "      <th>CO2 Emissions(g/km)</th>\n",
       "    </tr>\n",
       "  </thead>\n",
       "  <tbody>\n",
       "    <tr>\n",
       "      <th>5</th>\n",
       "      <td>AUDI</td>\n",
       "      <td>ALLROAD QUATTRO</td>\n",
       "      <td>STATION WAGON - SMALL</td>\n",
       "      <td>2.0</td>\n",
       "      <td>4</td>\n",
       "      <td>AS8</td>\n",
       "      <td>Z</td>\n",
       "      <td>11.8</td>\n",
       "      <td>8.8</td>\n",
       "      <td>10.5</td>\n",
       "      <td>27</td>\n",
       "      <td>242</td>\n",
       "    </tr>\n",
       "    <tr>\n",
       "      <th>6</th>\n",
       "      <td>BENTLEY</td>\n",
       "      <td>CONTINENTAL GTC</td>\n",
       "      <td>SUBCOMPACT</td>\n",
       "      <td>6.0</td>\n",
       "      <td>12</td>\n",
       "      <td>AS8</td>\n",
       "      <td>Z</td>\n",
       "      <td>20.0</td>\n",
       "      <td>12.2</td>\n",
       "      <td>16.5</td>\n",
       "      <td>17</td>\n",
       "      <td>380</td>\n",
       "    </tr>\n",
       "  </tbody>\n",
       "</table>\n",
       "</div>"
      ],
      "text/plain": [
       "      Make            Model          Vehicle Class  Engine Size(L)  Cylinders  \\\n",
       "5     AUDI  ALLROAD QUATTRO  STATION WAGON - SMALL             2.0          4   \n",
       "6  BENTLEY  CONTINENTAL GTC             SUBCOMPACT             6.0         12   \n",
       "\n",
       "  Transmission Fuel Type  Fuel Consumption City (L/100 km)  \\\n",
       "5          AS8         Z                              11.8   \n",
       "6          AS8         Z                              20.0   \n",
       "\n",
       "   Fuel Consumption Hwy (L/100 km)  Fuel Consumption Comb (L/100 km)  \\\n",
       "5                              8.8                              10.5   \n",
       "6                             12.2                              16.5   \n",
       "\n",
       "   Fuel Consumption Comb (mpg)  CO2 Emissions(g/km)  \n",
       "5                           27                  242  \n",
       "6                           17                  380  "
      ]
     },
     "execution_count": 6,
     "metadata": {},
     "output_type": "execute_result"
    }
   ],
   "source": [
    "# Respuesta 1.2\n",
    "result_1_1.tail(2)\n",
    "# Uso del comando tail() para obtener los ultimos elentos"
   ]
  },
  {
   "cell_type": "markdown",
   "metadata": {},
   "source": [
    "# Ejercicio 2\n",
    "    \n",
    "1. Cread y mostrad, utilizando la estructura de datos más adecuada (**justificad el motivo**), todas las marcas productoras de vehículos que aparecen en el dataset. Sólo queremos que las marcas aparezcan una vez (las marcas **NO** pueden estar repetidas).\n",
    "\n",
    "2. Transformad la estructura de datos obtenida en el apartado anterior en una lista y ordenad los nombres de las marcas en orden alfabético.\n",
    "\n",
    "Partiendo de la lista en el punto 2 y usando _**list slicing**_:\n",
    "\n",
    "3. Cread y mostrad por pantalla una lista de las marcas en orden lexicográfico inverso.\n",
    "4. Cread y mostrad por pantalla una lista de las posiciones múltiples de 7.\n",
    "\n",
    "Partiendo de la lista creada en el punto 2 y utilizando _**list comprehensions**_:\n",
    "\n",
    "5.  Cread y mostrad por pantalla una lista de las marcas con nombre de longitud mayor o igual a 6.\n",
    "\n",
    "6.  Cread una función que devuelva una lista de todas aquellas marcas que contengan una **A** en la segunda letra de la marca, por ejemplo: JAGUAR. Una vez obtenida la lista guardadla en una variable y mostrar esta variable por consola.\n",
    "\n",
    "<span style=\"font-family: Courier New; background-color: #82b74b; color: #000000; padding: 3px; \">SM</span> **(1 punto)**"
   ]
  },
  {
   "cell_type": "code",
   "execution_count": 7,
   "metadata": {},
   "outputs": [
    {
     "name": "stdout",
     "output_type": "stream",
     "text": [
      "{'BENTLEY', 'TOYOTA', 'VOLKSWAGEN', 'BMW', 'SRT', 'PORSCHE', 'MITSUBISHI', 'ASTON MARTIN', 'KIA', 'SCION', 'GENESIS', 'CHEVROLET', 'HYUNDAI', 'JEEP', 'LAMBORGHINI', 'VOLVO', 'ALFA ROMEO', 'SUBARU', 'BUICK', 'FORD', 'JAGUAR', 'CHRYSLER', 'MERCEDES-BENZ', 'RAM', 'DODGE', 'HONDA', 'INFINITI', 'BUGATTI', 'ROLLS-ROYCE', 'GMC', 'LEXUS', 'LINCOLN', 'NISSAN', 'AUDI', 'FIAT', 'SMART', 'MASERATI', 'ACURA', 'CADILLAC', 'LAND ROVER', 'MINI', 'MAZDA'}\n"
     ]
    }
   ],
   "source": [
    "# Respuesta 2.1\n",
    "resul_2_1 = set(data[\"Make\"])\n",
    "print(resul_2_1)\n",
    "\n",
    "# Ya que vamos a obtener varios strings correspondientes a una sola categoría\n",
    "# se ha decidido usar la estructura de set ya que permite almacenar datos\n",
    "# heterogeneos y sin repeticiones.\n",
    "# Se selecciona solo la columna \"Make\" que es el target que nos interesa,\n",
    "# ademas usando el comado unique() nos permite obtener todos sus elementos\n",
    "# sin repetirse"
   ]
  },
  {
   "cell_type": "code",
   "execution_count": 8,
   "metadata": {},
   "outputs": [
    {
     "data": {
      "text/plain": [
       "set"
      ]
     },
     "execution_count": 8,
     "metadata": {},
     "output_type": "execute_result"
    }
   ],
   "source": [
    "type(resul_2_1)"
   ]
  },
  {
   "cell_type": "code",
   "execution_count": 9,
   "metadata": {},
   "outputs": [
    {
     "name": "stdout",
     "output_type": "stream",
     "text": [
      "['ACURA', 'ALFA ROMEO', 'ASTON MARTIN', 'AUDI', 'BENTLEY', 'BMW', 'BUGATTI', 'BUICK', 'CADILLAC', 'CHEVROLET', 'CHRYSLER', 'DODGE', 'FIAT', 'FORD', 'GENESIS', 'GMC', 'HONDA', 'HYUNDAI', 'INFINITI', 'JAGUAR', 'JEEP', 'KIA', 'LAMBORGHINI', 'LAND ROVER', 'LEXUS', 'LINCOLN', 'MASERATI', 'MAZDA', 'MERCEDES-BENZ', 'MINI', 'MITSUBISHI', 'NISSAN', 'PORSCHE', 'RAM', 'ROLLS-ROYCE', 'SCION', 'SMART', 'SRT', 'SUBARU', 'TOYOTA', 'VOLKSWAGEN', 'VOLVO']\n"
     ]
    }
   ],
   "source": [
    "# Respuesta 2.2\n",
    "resul_2_2 = list(resul_2_1)     # aplicacion de list() al array resul_2_1\n",
    "resul_2_2.sort()        # ordenamiento medianre sort(), se tiene reverse=False\n",
    "print(resul_2_2)"
   ]
  },
  {
   "cell_type": "code",
   "execution_count": 10,
   "metadata": {},
   "outputs": [
    {
     "name": "stdout",
     "output_type": "stream",
     "text": [
      "['VOLVO', 'VOLKSWAGEN', 'TOYOTA', 'SUBARU', 'SRT', 'SMART', 'SCION', 'ROLLS-ROYCE', 'RAM', 'PORSCHE', 'NISSAN', 'MITSUBISHI', 'MINI', 'MERCEDES-BENZ', 'MAZDA', 'MASERATI', 'LINCOLN', 'LEXUS', 'LAND ROVER', 'LAMBORGHINI', 'KIA', 'JEEP', 'JAGUAR', 'INFINITI', 'HYUNDAI', 'HONDA', 'GMC', 'GENESIS', 'FORD', 'FIAT', 'DODGE', 'CHRYSLER', 'CHEVROLET', 'CADILLAC', 'BUICK', 'BUGATTI', 'BMW', 'BENTLEY', 'AUDI', 'ASTON MARTIN', 'ALFA ROMEO', 'ACURA']\n"
     ]
    }
   ],
   "source": [
    "# Respuesta 2.3\n",
    "resul_2_3 = resul_2_2[::-1]\n",
    "print(resul_2_3)\n",
    "\n",
    "# list slicing permite lista[Inicio:Fin:IndexJump] donde si colocamos el\n",
    "# menos (-) al IndexJump tendremos un salto en orden inverso"
   ]
  },
  {
   "cell_type": "code",
   "execution_count": 11,
   "metadata": {},
   "outputs": [
    {
     "name": "stdout",
     "output_type": "stream",
     "text": [
      "['BUICK', 'GENESIS', 'KIA', 'MERCEDES-BENZ', 'SCION']\n"
     ]
    }
   ],
   "source": [
    "# Respuesta 2.4\n",
    "resul_2_4 = resul_2_2[7::7]\n",
    "print(resul_2_4)\n",
    "\n",
    "# Mediante list silycing, y ya que la condicion es ser multiplos se 7 es\n",
    "# decir las posiciones 7, 14, 21, 27 .... se requiere iniciar en la posicion\n",
    "# # 7 para que el primer reultado sea list[7] seguido de cada posicion\n",
    "# haciendo un salto de 7 hasta el final."
   ]
  },
  {
   "cell_type": "code",
   "execution_count": 12,
   "metadata": {},
   "outputs": [
    {
     "name": "stdout",
     "output_type": "stream",
     "text": [
      "['ASTON MARTIN', 'BENTLEY', 'CADILLAC', 'CHEVROLET', 'CHRYSLER', 'HYUNDAI', 'INFINITI', 'JAGUAR', 'LAMBORGHINI', 'LAND ROVER', 'LINCOLN', 'MERCEDES-BENZ', 'PORSCHE', 'SUBARU', 'TOYOTA', 'VOLKSWAGEN', 'MASERATI', 'MITSUBISHI', 'NISSAN', 'ALFA ROMEO', 'ROLLS-ROYCE', 'BUGATTI', 'GENESIS']\n"
     ]
    }
   ],
   "source": [
    "# Respuesta 2.5\n",
    "resul_2_5 = data[\"Make\"].unique()\n",
    "resul_2_5 = [elem for elem in resul_2_5 if len(elem) >= 6]\n",
    "print(resul_2_5)\n",
    "\n",
    "# Se elije solo la column targetm data[\"Make\"] y se aplica unique(), caso\n",
    "# contrario se tiene resultados repetidos\n",
    "# Se aplica List Comprenhension para analizar la longitud de cada elemento\n",
    "# para que cumpla la condición de >=6."
   ]
  },
  {
   "cell_type": "code",
   "execution_count": 13,
   "metadata": {},
   "outputs": [],
   "source": [
    "# Respuesta 2.6\n",
    "def second_letter_A(lista: np.ndarray) -> list:\n",
    "    resul = [elem for i, elem in enumerate(lista) if elem[1] == \"A\"]\n",
    "    return resul\n",
    "\n",
    "# La funcion recibe como parámetro una lista, misma que al realizar una\n",
    "# operacion con list comprenhesion posibilita iterar calaelemento en el indice\n",
    "# i el cual se optiene del comando enumerate y adicional se aplica la condicion\n",
    "# del enunciado tomando la posicion [1] de cada elemento para ello."
   ]
  },
  {
   "cell_type": "markdown",
   "metadata": {
    "tags": []
   },
   "source": [
    "# Ejercicio 3\n",
    "\n",
    "Disponemos de un conjunto de fabricantes que deben ser notificados debido a las elevadas emisiones que emiten sus coches. Pero desafortunadamente, en nuestra entidad, solo disponemos de una única persona encargada de ponerse en contacto con los fabricantes de estos vehículos. Para facilitar su trabajo debemos generar un sistema en el cual almacenamos el nombre del fabricante y cada vez que la persona encargada se pone en contacto con el fabricante este es eliminado del sistema. Además debemos tener en cuenta que el fabricante que lleve más tiempo en el sistema debe ser el siguiente en ser llamado.\n",
    "\n",
    "<div class=\"alert alert-block alert-success\"> Para este ejercicio no es necesario utilizar los datos del dataframe, ya que aunque utilizamos esos datos, ya se os dan durante este enunciado para facilitar el trabajo. </div>\n",
    "\n",
    "1) ¿Qué estructura de datos sería la mas adecuada para representar nuestro sistema? Razonad la respuesta.\n",
    "\n",
    "2) Supongamos que hemos descubierto tres fabricantes con altos niveles de emisiones de CO2, y han sido descubiertos en el siguiente orden: \"JEEP\", \"LAMBORGHINI\", \"BUGATTI\". El primer fabricante ya ha sido contactado. Reproducid el proceso usando la estructura de datos que habéis definido en el apartado 1.\n",
    "\n",
    "3) Algunas veces es necesario llamar al último fabricante añadido al sistema, debido a que se han encontrado emisiones demasiado altas, e intentar encontrar una solución rápidamente con el fabricante. ¿Qué estructura de datos sería la más adecuada para representar este sistema? Razonad la respuesta. Repetid el ejemplo 2, para esta estructura de datos.\n",
    "\n",
    "**Nota:** El ejercicio 3.2 debe ser resuelto, partiendo de la estructura definida en el apartado 3.1.\n",
    "\n",
    "<span style=\"font-family: Courier New; background-color: #82b74b; color: #000000; padding: 3px; \">SM</span> **(1 punto)**"
   ]
  },
  {
   "cell_type": "markdown",
   "metadata": {},
   "source": [
    "## Respuesta 3.1"
   ]
  },
  {
   "cell_type": "code",
   "execution_count": 14,
   "metadata": {},
   "outputs": [],
   "source": [
    "# Respuesta 3.1\n",
    "# Se pude usar una estructura de cola (deque) ya que funciona bajo en concepto\n",
    "# de FIFO (fisrt in first out) es decir el fabricante en tener más tiempo en\n",
    "# espera será el primero en ser atendido y por ende en salir será el ultimo\n",
    "# agregado en nuestra fila"
   ]
  },
  {
   "cell_type": "markdown",
   "metadata": {},
   "source": [
    "## Respuesta 3.2"
   ]
  },
  {
   "cell_type": "code",
   "execution_count": 15,
   "metadata": {},
   "outputs": [
    {
     "name": "stdout",
     "output_type": "stream",
     "text": [
      "deque([])\n",
      "deque(['JEEP'])\n",
      "deque(['JEEP', 'LAMBORGHINI'])\n",
      "deque(['JEEP', 'LAMBORGHINI', 'BUGATTI'])\n",
      "deque(['LAMBORGHINI', 'BUGATTI'])\n",
      "deque(['BUGATTI'])\n",
      "deque([])\n"
     ]
    }
   ],
   "source": [
    "# Respuesta 3.2\n",
    "from collections import deque       # importe de libreria deque\n",
    "\n",
    "CO2_emition = deque([])       # creamos una cola vacía usando deque\n",
    "print(CO2_emition)\n",
    "CO2_emition.append(\"JEEP\")      # 1er elemnto en llegar\n",
    "print(CO2_emition)\n",
    "CO2_emition.append(\"LAMBORGHINI\")       # 2do elemnto en llegar\n",
    "print(CO2_emition)\n",
    "CO2_emition.append(\"BUGATTI\")       # 3er elemento en llegar\n",
    "print(CO2_emition)\n",
    "CO2_emition.popleft()       # 1er elemnto en salir\n",
    "print(CO2_emition)\n",
    "CO2_emition.popleft()       # 2do elemento en salir\n",
    "print(CO2_emition)\n",
    "CO2_emition.popleft()       # 3er elemento en salir\n",
    "print(CO2_emition)"
   ]
  },
  {
   "cell_type": "markdown",
   "metadata": {},
   "source": [
    "## Respuesta 3.3"
   ]
  },
  {
   "cell_type": "code",
   "execution_count": 16,
   "metadata": {},
   "outputs": [],
   "source": [
    "# Respuesta 3.3\n",
    "# Podríamos usar una pila (stack) para poder acceder y eliminar los\n",
    "# últimos fabricantes que han sido añadidos ya que que funciona bajo\n",
    "# en concepto FILO (first in last out) permitiendo eliminar primero\n",
    "# al fabricante que ha sido agregado recientemente, mientras que el\n",
    "# mas antiguo se eliminarà al final"
   ]
  },
  {
   "cell_type": "code",
   "execution_count": 17,
   "metadata": {},
   "outputs": [
    {
     "name": "stdout",
     "output_type": "stream",
     "text": [
      "[]\n",
      "['JEEP']\n",
      "['JEEP', 'LAMBORGHINI']\n",
      "['JEEP', 'LAMBORGHINI', 'BUGATTI']\n",
      "['JEEP', 'LAMBORGHINI']\n",
      "['JEEP']\n",
      "[]\n"
     ]
    }
   ],
   "source": [
    "CO2_emition = []      # creamos una lista vacia\n",
    "print(CO2_emition)\n",
    "CO2_emition.append(\"JEEP\")      # 1er elemnto en llegar\n",
    "print(CO2_emition)\n",
    "CO2_emition.append(\"LAMBORGHINI\")       # 2do elemnto en llegar\n",
    "print(CO2_emition)\n",
    "CO2_emition.append(\"BUGATTI\")       # 3er elemento en llegar\n",
    "print(CO2_emition)\n",
    "CO2_emition.pop()       # 3er elemnto en salir\n",
    "print(CO2_emition)\n",
    "CO2_emition.pop()       # 2do elemento en salir\n",
    "print(CO2_emition)\n",
    "CO2_emition.pop()       # 1er elemento en salir\n",
    "print(CO2_emition)"
   ]
  },
  {
   "cell_type": "markdown",
   "metadata": {},
   "source": [
    "# Ejercicio 4\n",
    "\n",
    "Desde el gobierno canadiense, nos piden que generemos un informe con los fabricantes y vehículos que más emisiones generan, para realizar este informe debemos:\n",
    "\n",
    "1. Mostrar por pantalla el nombre de todos los fabricantes que tienen vehículos que emiten más de 400.000 g/km (sin repeticiones).\n",
    "\n",
    "2. De los fabricantes obtenidos anteriormente, sabemos que \"BUGATTI\" es el fabricante que más emisiones de CO2 genera. Ahora debemos identificar qué modelo es el que más emisiones genera. Realizad este apartado utilizando una función que como parámetro de entrada tenga el dataframe obtenido en el ejercicio 1 y como resultado devuelva el modelo y las emisiones de CO2 con la siguiente estructura \"The model {model} generates {emissions} g/km of CO2\"\n",
    "\n",
    "**Nota 1:** La función generada en el apartado dos devuelve un string y no debe hacer un print, el print se debe hacer después de guardar el string obtenido en una variable.\n",
    "\n",
    "<span style=\"font-family: Courier New; background-color: #82b74b; color: #000000; padding: 3px; \">SM</span> **(1 punto)**"
   ]
  },
  {
   "cell_type": "code",
   "execution_count": 18,
   "metadata": {},
   "outputs": [
    {
     "name": "stdout",
     "output_type": "stream",
     "text": [
      "['FORD' 'CHEVROLET' 'GMC' 'LAMBORGHINI' 'MERCEDES-BENZ' 'ASTON MARTIN'\n",
      " 'BENTLEY' 'ROLLS-ROYCE' 'BUGATTI' 'JEEP']\n"
     ]
    }
   ],
   "source": [
    "# Respuesta 4.1\n",
    "resul_4_1 = data[data[\"CO2 Emissions(g/km)\"] > 400]\n",
    "print(resul_4_1[\"Make\"].unique())\n",
    "\n",
    "# Del dataframe original tomamos la columna de interés [\"CO2 Emissions(g/km)\"]\n",
    "# la cual comparamos con la condiccion y guardamos el resultado en la var\n",
    "# resul_4_1 imprimimos por pantalla solo la columna del fafricante \"Make\"\n",
    "# aplicando unique() para que no se repitan los resultados"
   ]
  },
  {
   "cell_type": "code",
   "execution_count": 19,
   "metadata": {},
   "outputs": [],
   "source": [
    "# Respuesta 4.2\n",
    "def model_more_CO2_emition(df: pd.DataFrame) -> str:\n",
    "    result = df[df[\"CO2 Emissions(g/km)\"] == df[\"CO2 Emissions(g/km)\"].max()]\n",
    "    model = str(result[\"Model\"].iloc[0])\n",
    "    emissions = str(result[\"CO2 Emissions(g/km)\"].iloc[0])\n",
    "    return model, emissions\n",
    "\n",
    "# La funcion recibe como parametro el dataframe, despues tomamos solo el\n",
    "# elemento que cumpla que sea el máximo valor de la columna \"CO2\n",
    "# Emissions(g/km)\", en las variables model y emission guardamos el\n",
    "# valor correspondiente a cada uno especificando la columna y su\n",
    "# posicion mediante el comado iloc[], depsues a todo este velor lo\n",
    "# convertimos a string mediante str() y finalmente retornamos\n",
    "# model y emission.\n",
    "# NOTA: Tambien se puede realizar mediante el comado sort() para ordenar\n",
    "# la columna \"CO2 Emissions(g/km)\" y despues tomar solo su primer elemento\n",
    "# cumpliendo con las condiciones planteadas."
   ]
  },
  {
   "cell_type": "code",
   "execution_count": 20,
   "metadata": {},
   "outputs": [
    {
     "name": "stdout",
     "output_type": "stream",
     "text": [
      "The model CHIRON generates 522 g/km of CO2\n"
     ]
    }
   ],
   "source": [
    "model, emissions = model_more_CO2_emition(resul_4_1)\n",
    "print(f'The model {model} generates {emissions} g/km of CO2')\n",
    "\n",
    "# Como de la funcion retorna dos valores especificados en el paso\n",
    "# anterior procedemos a guardarlos en dos variables model y emissions\n",
    "# par posteriormente imprimirlos en el formato de cadena print(f'.....')"
   ]
  },
  {
   "cell_type": "markdown",
   "metadata": {},
   "source": [
    "# Ejercicio 5\n",
    "\n",
    "Según el último reporte generado por el ministerio de transporte de Canadá, Toyota ha sido la marca más venida en el año 2020 (año en el que se recolectó la información). Por ese motivo nos piden:\n",
    "\n",
    "1. Cread una lista con todos los modelos (sin repeticiones) de los coches que hayan consumido más de 16 l a los 100 km en ciudad.\n",
    "\n",
    "2. Calculad la media de las emisiones de CO2 en ciudad de vehículos Toyota. Para hacerlo definid una función que tenga como parámetro de entrada el dataFrame obtenido en el primer ejercicio y el nombre del fabricante del cual se desean calcular las emisiones en ciudad y como resultado devuelva la media de emisiones de CO2 (float).\n",
    "\n",
    "<span style=\"font-family: Courier New; background-color: #82b74b; color: #000000; padding: 3px; \">SM</span> **(1 punto)**"
   ]
  },
  {
   "cell_type": "code",
   "execution_count": 21,
   "metadata": {},
   "outputs": [
    {
     "name": "stdout",
     "output_type": "stream",
     "text": [
      "['RAPIDE', 'CONTINENTAL GTC', 'CONTINENTAL GT SPEED CONVERTIBLE', '760LI', 'CTS-V COUPE', 'CTS-V SEDAN', 'CTS-V SPORT WAGON', 'ESCALADE AWD', 'ESCALADE ESV AWD', 'EXPRESS 1500 CARGO', 'EXPRESS 1500 CARGO AWD', 'EXPRESS 1500 CARGO CONV', 'EXPRESS 1500 CARGO CONV AWD', 'EXPRESS 1500 PASSENGER', 'EXPRESS 1500 PASSENGER AWD', '200 CONVERTIBLE FFV', '200 SEDAN FFV', '300 AWD (MDS)', '300 SRT (MDS)', 'AVENGER FFV', 'E150 VAN FFV', 'E150 WAGON FFV', 'E350 WAGON', 'E350 WAGON FFV', 'EXPEDITION 4X4 FFV', 'SAVANA 1500 CARGO', 'SAVANA 1500 CARGO AWD', 'SAVANA 1500 CARGO CONV', 'SAVANA 1500 CARGO CONV AWD', 'SAVANA 1500 PASSENGER', 'SAVANA 1500 PASSENGER AWD', 'YUKON DENALI AWD', 'YUKON DENALI XL AWD', 'GALLARDO COUPE', 'RANGE ROVER LWB V8 5.0 SC', 'RANGE ROVER LWB V8 5.0 SC FFV', 'RANGE ROVER SPORT V6 3.0 SC FFV', 'RANGE ROVER SPORT V8 5.0 SC', 'RANGE ROVER SPORT V8 5.0 SC FFV', 'RANGE ROVER V6 3.0 SC FFV', 'RANGE ROVER V8 5.0 SC', 'RANGE ROVER V8 5.0 SC FFV', 'NAVIGATOR 4X4 FFV', 'C 300 4MATIC FFV', 'C 63 AMG', 'ML 350 4MATIC FFV', 'SLS AMG BLACK SERIES COUPE', 'SLS AMG ROADSTER', 'VIPER COUPE', 'VIPER GTS COUPE', 'DB9', 'CONTINENTAL GT3-R', '760LI SEDAN', 'ESCALADE ESV 4WD', 'CAMARO Z/28', 'EXPRESS 2500 PASSENGER FFV', 'EXPRESS 3500 PASSENGER FFV', 'DURANGO AWD FFV', 'VIPER SRT COUPE', 'SAVANA 2500 PASSENGER FFV', 'SAVANA 3500 PASSENGER FFV', 'XFR', 'XJ SUPERCHARGED', 'XJL SUPERCHARGED', 'GRAND CHEROKEE 4X4 FFV', 'VENENO ROADSTER', 'C 63 AMG COUPE', 'G 63 AMG', 'GL 63 AMG', 'ML 550 4MATIC', 'ML 63 AMG 4MATIC', 'S 65 AMG', 'S 65 AMG COUPE', 'SL 65 AMG', 'SLS AMG GT COUPE', 'SLS AMG GT ROADSTER', 'CARGO VAN FFV', 'DB9 GT', 'V8 VANTAGE', 'VANTAGE GT', 'V8 VANTAGE S', 'A8L QUATTRO', 'RS 7 QUATTRO', 'LACROSSE FFV', 'LACROSSE AWD FFV', 'TOWN & COUNTRY FFV', 'DURANGO AWD (MDS)', 'VIPER SRT', 'TRANSIT CONNECT WAGON FFV', 'GENESIS AWD', 'GRAND CHEROKEE 4X4 (MDS)', 'GRAND CHEROKEE SRT 4X4 (MDS)', 'LR4', 'RANGE ROVER SUPERCHARGED', 'RANGE ROVER SUPERCHARGED LWB', 'AMG GL 63 S', 'AMG GLE 63 S COUPE 4MATIC', 'GL 550 4MATIC', '911 GT3RS', '1500 4X4 (MDS)', 'V12 VANTAGE S', 'MULSANNE EWB', 'M6', 'EQUINOX AWD FFV', 'EXPRESS 2500 PASSENGER', 'EXPRESS 3500 PASSENGER', '200 FFV', '200 AWD FFV', 'VIPER', 'EXPEDITION EL 4X4', 'SAVANA 2500 PASSENGER', 'SAVANA 3500 PASSENGER', 'YUKON XL DENALI 4WD', 'GRAND CHEROKEE SRT8', 'AVENTADOR COUPE LP 740', 'AVENTADOR ROADSTER LP 740', 'NAVIGATOR L 4X4', 'AMG GLS 63', 'AMG S 63 CABRIOLET', 'MAYBACH S 600', 'S 600', 'PHANTOM COUPE', 'PHANTOM DROPHEAD COUPE', 'RAPIDE S', 'VANQUISH', 'R8 QUATTRO', 'RS 7', 'CONTINENTAL SUPERSPORTS', 'M6 CABRIOLET', 'M6 COUPE', 'M760I XDRIVE', 'X5 M', 'IMPALA FFV', 'CHALLENGER GT AWD FFV', 'CHALLENGER SRT', 'CHALLENGER SRT DEMON', 'EXPLORER FFV', 'CHEROKEE 4X4 ACTIVE DRIVE I FFV', 'AVENTADOR S COUPE', 'AVENTADOR S ROADSTER', 'HURACAN', 'HURACAN AWD', 'GRANTURISMO', 'AMG G 65', 'AMG SL 65', 'CAYENNE TURBO S', '1500 FFV', '1500 4X4 FFV', 'RAPIDE AMR', 'VANQUISH ZAGATO', 'MULSANNE', 'M6 GRAN COUPE', 'M760LI XDRIVE', 'X6 M', 'CTS-V', 'CORVETTE ZR1', '300 FFV', '300 AWD FFV', 'CHALLENGER SRT HELLCAT REDEYE', 'CHARGER FFV', 'CHARGER AWD FFV', 'CHARGER SRT HELLCAT', 'GRAND CARAVAN FFV', 'JOURNEY FFV', 'EXPLORER FFV AWD', 'F-150 FFV 4X4 (LT TIRE PKG)', 'F-150 FFV 4X4 (PAYLOAD PKG)', 'T-150 WAGON', 'TAURUS FFV', 'TAURUS FFV AWD', 'HURACAN PERFORMANTE COUPE', 'HURACAN PERFORMANTE SPYDER', 'GRANTURISMO CONVERTIBLE', 'AMG GLE 63 S 4MATIC', 'AMG GLE 63 S 4MATIC COUPE', 'AMG GLS 63 4MATIC', 'AMG S 65 CABRIOLET', 'AMG S 65 COUPE', 'GLS 550 4MATIC', '911 GT3', '911 GT3 RS', '911 GT3 TOURING', '911 SPEEDSTER', '1500 CLASSIC FFV', '1500 CLASSIC 4X4 FFV', 'DBS SUPERLEGGERA', 'VANTAGE V8', 'R8 COUPE', 'R8 SPYDER', 'S8', 'BENTAYGA', 'CONTINENTAL GT', 'CONTINENTAL GT CONVERTIBLE', 'FLYING SPUR', 'M760I XDRIVE SEDAN', 'X3 M', 'X3 M COMPETITION', 'X4 M', 'X4 M COMPETITION', 'CHIRON', 'CT6 AWD', 'ESCALADE 4WD', 'CAMARO ZL1', 'IMPALA', 'SILVERADO FFV', 'SILVERADO 4WD FFV', 'SILVERADO 4WD CUSTOM TRAIL BOSS', 'SUBURBAN FFV', 'SUBURBAN 4WD FFV', 'SUBURBAN 4WD', 'TAHOE FFV', 'TAHOE 4WD FFV', 'TAHOE 4WD', 'CHALLENGER', 'CHALLENGER WIDEBODY (MDS)', 'CHALLENGER SRT HELLCAT', 'CHALLENGER SRT HELLCAT WIDEBODY', 'CHARGER SRT HELLCAT WIDEBODY', 'DURANGO AWD', 'DURANGO AWD SRT', 'F-150 FFV', 'F-150 FFV (LT TIRE PKG)', 'F-150 FFV (PAYLOAD PKG)', 'F-150 FFV 4X4', 'GT', 'MUSTANG', 'MUSTANG BULLITT', 'SHELBY GT350 MUSTANG', 'SHELBY GT500 MUSTANG', 'T-150 WAGON FFV', 'T-150 WAGON FFV 4WD', 'SIERRA FFV', 'SIERRA 4WD FFV', 'YUKON FFV', 'YUKON 4WD FFV', 'YUKON 4WD', 'YUKON XL FFV', 'YUKON XL 4WD FFV', 'YUKON XL 4WD', 'QX80 4WD', 'GRAND CHEROKEE 4X4', 'GRAND CHEROKEE 4X4 TRACKHAWK', 'GRAND CHEROKEE 4X4 SRT', 'AVENTADOR COUPE', 'AVENTADOR ROADSTER', 'HURACAN COUPE', 'HURACAN COUPE AWD', 'HURACAN SPYDER', 'HURACAN SPYDER AWD', 'URUS', 'RANGE ROVER SVAUTOBIOGRAPHY DYNAMIC', 'RANGE ROVER SVAUTOBIOGRAPHY LWB', 'RANGE ROVER SPORT SVR', 'GX 460', 'LX 570', 'LEVANTE GTS', 'LEVANTE TROFEO', 'AMG G 63', 'AMG S 65', 'G 550', 'MAYBACH S 650', 'ARMADA 4WD', '1500', '1500 4X4', '1500 CLASSIC 4X4', 'CULLINAN', 'CULLINAN BLACK BADGE', 'DAWN', 'GHOST', 'GHOST EWB', 'PHANTOM', 'PHANTOM EWB', 'WRAITH', 'SEQUOIA 4WD', 'TUNDRA', 'TUNDRA 4WD']\n"
     ]
    }
   ],
   "source": [
    "# Respuesta 5.1\n",
    "resul_5 = data[(data[\"Fuel Consumption City (L/100 km)\"] > 16)]\n",
    "resul_5_1 = list(resul_5[\"Model\"].unique())\n",
    "print(resul_5_1)\n",
    "\n",
    "# Realizamos la aplicacion de la condicion para seleccionar solo los elementos\n",
    "# cuyo valor de la columna \"Fuel Consumption City (L/100 km)\" sea mayor a 16, y\n",
    "# seleccionamos solo los valores no repetidos de la columna \"Make\", dicho\n",
    "# resultado la transformamos a formato lista"
   ]
  },
  {
   "cell_type": "code",
   "execution_count": 22,
   "metadata": {},
   "outputs": [],
   "source": [
    "# Respuesta 5.2\n",
    "def CO2_emition_mean(df: pd.DataFrame, name_maker: str) -> float:\n",
    "    result = df[df[\"Make\"] == name_maker]\n",
    "    return float(result[\"CO2 Emissions(g/km)\"].mean())\n",
    "\n",
    "# la funcion recibe como parámetro el dataframe y el nombre de fabricante (df,\n",
    "# name_maker) seleccionamos del df solo aquellos elemento que su valor en la\n",
    "# columna \"Make\" sea igual a name_maker, retornamos la media de la columna\n",
    "# \"CO2 Emissions(g/km)\" fitrada con los pasos anteriores y gtransformada a\n",
    "# formato float."
   ]
  },
  {
   "cell_type": "code",
   "execution_count": 23,
   "metadata": {},
   "outputs": [
    {
     "name": "stdout",
     "output_type": "stream",
     "text": [
      "Emision promedio de CO2 es de 379.0 L/100 km en ciudad\n"
     ]
    }
   ],
   "source": [
    "resul_5_2 = CO2_emition_mean(resul_5, \"TOYOTA\")\n",
    "print(\"Emision promedio de CO2 es de {} L/100 km en ciudad\".format(\n",
    "    resul_5_2))\n",
    "\n",
    "# llamamos a la funcion CO2_emition_mean yn enviamos el dataframe resul_5\n",
    "# obtenido en el apartado anterior, ademoas del nombre del fabricante \"TOYOTA\"\n",
    "# e imprimimos el resultado de la funcion en dormato de string."
   ]
  },
  {
   "cell_type": "markdown",
   "metadata": {},
   "source": [
    "# Ejercicio 6\n",
    "\n",
    "1) Calculad en una única expresión la media de emisiones de CO2 para vehículos de clase `SUBCOMPACT`.\n",
    "\n",
    "2) Calculad en una única expresión la media de consumo de combustible combinado, para vehículos que tengan un tamaño de motor más grande o igual a 6 y el número de cilindros sea mayor que 8. \n",
    "\n",
    "Recordad que podéis utilizar librerías científicas para realizar cálculos de forma sencilla.\n",
    "\n",
    "<span style=\"font-family: Courier New; background-color: #ffcc5c; color: #000000; padding: 3px; \">EG</span> **(1 punto)**"
   ]
  },
  {
   "cell_type": "code",
   "execution_count": 24,
   "metadata": {},
   "outputs": [
    {
     "data": {
      "text/plain": [
       "254.12244897959184"
      ]
     },
     "execution_count": 24,
     "metadata": {},
     "output_type": "execute_result"
    }
   ],
   "source": [
    "# Respuesta 6.1\n",
    "data[(data[\"Vehicle Class\"] == \"SUBCOMPACT\")][\"CO2 Emissions(g/km)\"].mean()\n",
    "\n",
    "# Seleccionamos solo aquellos elementos que pertenecen a la clase \"SUBCOMPACT\"\n",
    "# mediante la condicion data[\"Vehicle Class\"] == \"SUBCOMPACT\" a su vez de\n",
    "# aquellos filtrados procedemos a seleccionar solo la columna \"CO2\n",
    "# Emissions(g/km)\" a la cual procedemos a obtener la media mediante el\n",
    "# comando mean()"
   ]
  },
  {
   "cell_type": "code",
   "execution_count": 25,
   "metadata": {},
   "outputs": [
    {
     "data": {
      "text/plain": [
       "16.66415094339623"
      ]
     },
     "execution_count": 25,
     "metadata": {},
     "output_type": "execute_result"
    }
   ],
   "source": [
    "# Respuesta 6.2\n",
    "data[(data[\"Engine Size(L)\"] >= 6) & (data[\"Cylinders\"] > 8)][\n",
    "    \"Fuel Consumption Comb (L/100 km)\"].mean()\n",
    "\n",
    "# Similar al ejercicio previo, aplicamos un filtrado de los datos pero\n",
    "# esta vez con dos condiciones, y finalmente seleccionamos solo la\n",
    "# columna que queremos obtener su media"
   ]
  },
  {
   "cell_type": "markdown",
   "metadata": {},
   "source": [
    "# Ejercicio 7\n",
    "\n",
    "Durante el proceso de análisis de datos, el equipo de análisis de datos, se ha dado cuenta que no se pueden analizar las emisiones de CO2 por zonas horarias, ni por días semanales. Debido a esto nos piden que diseñemos una función que dado un fabricante y modelo se pueda añadir una fecha y hora con el formato `\"Year-month-day Hour:Minute:Second\"`. Para ello, definid una función que tenga como parámetro de entrada el dataset obtenido en el primer apartado, el nombre del fabricante, el modelo del vehículo y la fecha y hora como string con el formato `\"Year-month-day Hour:Minute:Second\"`. La función debe devolver un diccionario con el siguiente formato:\n",
    "\n",
    "```{py}\n",
    "dictionary = {'Make': str,\n",
    " 'Model': str,\n",
    " 'Vehicle Class': str,\n",
    " 'Engine Size(L)': float\n",
    " 'Cylinders': int,\n",
    " 'Transmission': str,\n",
    " 'Fuel Type': str,\n",
    " 'Fuel Consumption City (L/100 km)': float,\n",
    " 'Fuel Consumption Hwy (L/100 km)': float,\n",
    " 'Fuel Consumption Comb (L/100 km)': float,\n",
    " 'Fuel Consumption Comb (mpg)': int,\n",
    " 'CO2 Emissions(g/km)': int,\n",
    " 'date': datetime}\n",
    "```\n",
    "\n",
    "La solución de este ejercicio debe ser ejecutada con los siguientes parámetros:\n",
    "\n",
    "* manufacturer = \"BENTLEY\", \n",
    "* model = \"CONTINENTAL GTC\", \n",
    "* date = \"2020-01-27 18:24:27.243860\"\n",
    "\n",
    "<span style=\"font-family: Courier New; background-color: #82b74b; color: #000000; padding: 3px; \">SM</span> **(1 punto)**"
   ]
  },
  {
   "cell_type": "code",
   "execution_count": 26,
   "metadata": {},
   "outputs": [
    {
     "name": "stderr",
     "output_type": "stream",
     "text": [
      "5:80: E501 line too long (88 > 79 characters)\n"
     ]
    }
   ],
   "source": [
    "# Respuesta 7\n",
    "from datetime import datetime       # importe la libreria datetime\n",
    "\n",
    "\n",
    "def Date_hour(df: pd.DataFrame, maker: str, vehicle_model: str, date_hour: str) -> dict:\n",
    "    df[\"date\"] = \"\"\n",
    "    filter1 = df[\"Make\"] == maker\n",
    "    filter2 = df[\"Model\"] == vehicle_model\n",
    "    df[\"date\"][(filter1 & filter2)] = datetime.strptime(\n",
    "        date_hour, '%Y-%m-%d %H:%M:%S.%f')\n",
    "    return df.to_dict('list')\n",
    "\n",
    "# La funcion recibe como parámetros los propuestos en el enunciado, posterior\n",
    "# se agrega una nueva columna al df llamda \"date\" para guardar la fecha y hora\n",
    "# (date_hour), a su vez se aplica 2 filtros del dataset siendo\n",
    "# df[\"Make\"] == maker y df[\"Model\"] == vehicle_model mismas que se gurdan en\n",
    "# varibales por separado, modificaremos solo la poscion del elemento que cumple\n",
    "# tanto para el filtro 1 y 2 y colocaremos el valor del string date_hour\n",
    "# cambiandolo a tipo fecha con su formato '%Y-%m-%d %H:%M:%S.%f' donde\n",
    "# %f se refiere a las fracciones de segundo.\n",
    "# Finalmente se cambia a formato diccionarion mediante el comando to_dict()\n",
    "# pasandolo como lista otorgandonos los colunms names como clave y sus values\n",
    "# como listas asociadas a cada una de sus claveso columnas.\n",
    "\n",
    "# BIBLIOGRAFIA EXTERNA\n",
    "# https://www.geeksforgeeks.org/python-pandas-dataframe-where/\n",
    "# https://www.delftstack.com/es/howto/python-pandas/convert-pandas-dataframe-to-dictionary/"
   ]
  },
  {
   "cell_type": "code",
   "execution_count": 27,
   "metadata": {},
   "outputs": [
    {
     "name": "stdout",
     "output_type": "stream",
     "text": [
      "Make : ['ACURA', 'ACURA', 'ACURA', 'ACURA', 'ASTON MARTIN', 'AUDI', 'BENTLEY']\n",
      "Model : ['MDX 4WD', 'TL', 'TL AWD', 'TSX', 'RAPIDE', 'ALLROAD QUATTRO', 'CONTINENTAL GTC']\n",
      "Vehicle Class : ['SUV - SMALL', 'MID-SIZE', 'MID-SIZE', 'COMPACT', 'SUBCOMPACT', 'STATION WAGON - SMALL', 'SUBCOMPACT']\n",
      "Engine Size(L) : [3.5, 3.5, 3.7, 3.5, 5.9, 2.0, 6.0]\n",
      "Cylinders : [6, 6, 6, 6, 12, 4, 12]\n",
      "Transmission : ['AS6', 'AS6', 'M6', 'AS5', 'A6', 'AS8', 'AS8']\n",
      "Fuel Type : ['Z', 'Z', 'Z', 'Z', 'Z', 'Z', 'Z']\n",
      "Fuel Consumption City (L/100 km) : [12.7, 11.8, 13.4, 12.1, 18.0, 11.8, 20.0]\n",
      "Fuel Consumption Hwy (L/100 km) : [9.1, 8.1, 9.5, 8.3, 12.6, 8.8, 12.2]\n",
      "Fuel Consumption Comb (L/100 km) : [11.1, 10.1, 11.6, 10.4, 15.6, 10.5, 16.5]\n",
      "Fuel Consumption Comb (mpg) : [25, 28, 24, 27, 18, 27, 17]\n",
      "CO2 Emissions(g/km) : [255, 232, 267, 239, 359, 242, 380]\n",
      "date : ['', '', '', '', '', '', datetime.datetime(2020, 1, 27, 18, 24, 27, 243860)]\n"
     ]
    },
    {
     "name": "stderr",
     "output_type": "stream",
     "text": [
      "C:\\Users\\brand\\AppData\\Local\\Temp\\ipykernel_6916\\39956926.py:9: SettingWithCopyWarning: \n",
      "A value is trying to be set on a copy of a slice from a DataFrame\n",
      "\n",
      "See the caveats in the documentation: https://pandas.pydata.org/pandas-docs/stable/user_guide/indexing.html#returning-a-view-versus-a-copy\n",
      "  df[\"date\"][(filter1 & filter2)] = datetime.strptime(\n"
     ]
    }
   ],
   "source": [
    "resul_7 = Date_hour(\n",
    "    data, \"BENTLEY\", \"CONTINENTAL GTC\", \"2020-01-27 18:24:27.243860\")\n",
    "\n",
    "for k, v in resul_7.items():\n",
    "    print(f\"{k} : {v[:7]}\")\n",
    "\n",
    "# Pasamos a la funcion los parametros propuestos en el enunciado, a su\n",
    "# vez con ayuda de un ciclo le damos formato a la vizualizacion de los\n",
    "# datos. Notese que se ha agregado en el diccionario la clave \"date\"\n",
    "# ademas de agregarle en resul_7[\"date\"][6] la fecha y hora propuesta."
   ]
  },
  {
   "cell_type": "markdown",
   "metadata": {},
   "source": [
    "# Ejercicio 8\n",
    "\n",
    "Utilizando **expresiones regulares**:\n",
    "\n",
    "1. Encontrad todas las clases de vehículos que contengan la cadena de caracteres \"SUV-\".\n",
    "2. Encontrad todos los modelos que contenga un número en el modelo, pariendo de todas las clases de vehículos.\n",
    "\n",
    "<span style=\"font-family: Courier New; background-color: #82b74b; color: #000000; padding: 3px; \">SM</span> **(1 punto)**"
   ]
  },
  {
   "cell_type": "code",
   "execution_count": 28,
   "metadata": {},
   "outputs": [
    {
     "name": "stdout",
     "output_type": "stream",
     "text": [
      "['SUV - SMALL', 'SUV - STANDARD']\n"
     ]
    }
   ],
   "source": [
    "# Respuesta 8.1\n",
    "import re       # importe de libreria de regular expretion\n",
    "\n",
    "result_8_1 = [elem for elem in data[\"Vehicle Class\"].unique(\n",
    "                ) if re.search(\"SUV -\", elem)]\n",
    "print(result_8_1)\n",
    "\n",
    "# A travez de lit comprenhension iteramos dentro de los elementos de\n",
    "# la columna data[\"Vehicle Class\"] aplicando unique() para que no exista\n",
    "# elementos repetidos, posterior a eso a travez de regular expretion\n",
    "# buscamos si cada elemento contiene \"SUV -\" a travez del comando\n",
    "# re.search(\"SUV -\", elem)"
   ]
  },
  {
   "cell_type": "code",
   "execution_count": 29,
   "metadata": {
    "scrolled": true
   },
   "outputs": [
    {
     "name": "stdout",
     "output_type": "stream",
     "text": [
      "['MDX 4WD', '328I', '335I', '335I XDRIVE', '528I', '760LI', 'EXPRESS 1500 CARGO', 'EXPRESS 1500 CARGO AWD', 'EXPRESS 1500 CARGO CONV', 'EXPRESS 1500 CARGO CONV AWD', 'EXPRESS 1500 PASSENGER', 'EXPRESS 1500 PASSENGER AWD', '200 CONVERTIBLE', '200 CONVERTIBLE FFV', '200 SEDAN', '200 SEDAN FFV', '300 AWD (MDS)', '300 SRT (MDS)', '500 CABRIO TURBO', '500L TURBO', 'E150 VAN FFV', 'E150 WAGON FFV', 'E350 WAGON', 'E350 WAGON FFV', 'EXPEDITION 4X4 FFV', 'SAVANA 1500 CARGO', 'SAVANA 1500 CARGO AWD', 'SAVANA 1500 CARGO CONV', 'SAVANA 1500 CARGO CONV AWD', 'SAVANA 1500 PASSENGER', 'SAVANA 1500 PASSENGER AWD', 'SANTA FE 4WD', 'SANTA FE SPORT 4WD', 'TUCSON 4WD', 'Q60 AWD COUPE', 'Q60 COUPE', 'XF 3.0L AWD', 'WRANGLER 4X4 (2-DOOR)', 'WRANGLER UNLIMITED 4X4 (4-DOOR)', 'SORENTO 4WD', 'RANGE ROVER LWB V8 5.0 SC', 'RANGE ROVER LWB V8 5.0 SC FFV', 'RANGE ROVER SPORT V6 3.0 SC', 'RANGE ROVER SPORT V6 3.0 SC FFV', 'RANGE ROVER SPORT V8 5.0 SC', 'RANGE ROVER SPORT V8 5.0 SC FFV', 'RANGE ROVER V6 3.0 SC', 'RANGE ROVER V6 3.0 SC FFV', 'RANGE ROVER V8 5.0 SC', 'RANGE ROVER V8 5.0 SC FFV', 'NAVIGATOR 4X4 FFV', 'MAZDA2', 'C 250', 'C 300 4MATIC FFV', 'C 350', 'C 350 4MATIC', 'C 63 AMG', 'CL 550 4MATIC', 'CL 63 AMG', 'CLA 45 AMG 4MATIC', 'CLS 63 AMG S 4MATIC', 'E 350 4MATIC', 'E 350 4MATIC COUPE', 'E 350 4MATIC WAGON', 'E 350 CABRIOLET', 'E 350 COUPE', 'E 400 HYBRID', 'E 63 AMG 4MATIC', 'E 63 AMG 4MATIC WAGON', 'ML 350 4MATIC FFV', '1500 4X4 DIESEL', '1500 DIESEL', '4RUNNER (PART-TIME 4WD)', 'FJ CRUISER 4WD', 'S60', 'S60 AWD', 'S80', 'S80 AWD', 'XC60', 'XC60 AWD', 'XC70 AWD', 'XC90 AWD', 'DB9', 'A3 TDI (MODIFIED)', 'A8 TDI (MODIFIED)', 'A8L TDI (MODIFIED)', 'Q5 TDI (MODIFIED)', 'Q5 HYBRID', 'Q7 TDI (MODIFIED)', 'RS 5 CABRIOLET', 'CONTINENTAL GT3-R', '228I CABRIOLET', '228I COUPE', '228I XDRIVE COUPE', '320I SEDAN', '320I XDRIVE SEDAN', '328D XDRIVE SEDAN', '328I SEDAN', '328I XDRIVE SEDAN', '335I SEDAN', '335I XDRIVE SEDAN', '435I GRAN COUPE', '528I SEDAN', '528I XDRIVE SEDAN', '535D XDRIVE SEDAN', '535I XDRIVE SEDAN', '550I XDRIVE SEDAN', '740LD XDRIVE SEDAN', '740LI XDRIVE SEDAN', '760LI SEDAN', 'ACTIVEHYBRID 3', 'ACTIVEHYBRID 7L', 'ALPINA B7 XDRIVE LWB', 'ALPINA B7 XDRIVE SWB', 'M235I COUPE', 'M235I XDRIVE COUPE', 'M3 SEDAN', 'X1 XDRIVE35I', 'ESCALADE ESV 4WD', 'CAMARO 2LS', 'CAMARO Z/28', 'EXPRESS 2500 PASSENGER FFV', 'EXPRESS 3500 PASSENGER FFV', '200', '200 AWD', 'CHARGER SRT 392 HEMI', 'SAVANA 2500 PASSENGER FFV', 'SAVANA 3500 PASSENGER FFV', 'PILOT 4WD', 'Q60', 'Q60 CONVERTIBLE', 'Q70', 'F-TYPE V8 R COUPE', 'F-TYPE V8 S CONVERTIBLE', 'GRAND CHEROKEE 4X4 FFV', 'LR2', 'IS 250', 'IS 250 AWD', 'IS 250 C', 'IS 350 C', 'C 250 COUPE', 'C 350 4MATIC COUPE', 'C 350 COUPE', 'C 400 4MATIC', 'C 63 AMG COUPE', 'CLA 45 AMG', 'CLS 63 AMG 4MATIC', 'E 63 AMG S 4MATIC', 'E 63 AMG S 4MATIC WAGON', 'G 63 AMG', 'GL 63 AMG', 'GLA 45 AMG 4MATIC', 'GLK 250 BLUETEC 4MATIC', 'GLK 350 4MATIC', 'ML 350 BLUETEC 4MATIC', 'ML 400 4MATIC', 'ML 550 4MATIC', 'ML 63 AMG 4MATIC', 'S 400 4MATIC', 'S 63 AMG 4MATIC', 'S 63 AMG COUPE', 'S 65 AMG', 'S 65 AMG COUPE', 'SL 63 AMG', 'SL 65 AMG', 'SLK 250', 'SLK 55 AMG', '370Z COUPE', 'PATHFINDER HYBRID 4WD', 'XTERRA 4WD', 'RAV4 LIMITED AWD', 'S60 POLESTAR AWD', 'S60 T5 ', 'S60 T6   ', 'S80 T6 AWD', 'V60 CC', 'V60 CC AWD', 'V60 POLESTAR AWD', 'XC60 3.2 AWD', 'XC60 T6  ', 'XC70 3.2 AWD', 'XC70 T6 AWD', 'DB9 GT', 'V8 VANTAGE', 'V8 VANTAGE S', 'A6 QUATTRO TDI (MODIFIED)', 'A7 QUATTRO TDI (MODIFIED)', 'A8 QUATTRO', 'A8 QUATTRO TDI (MODIFIED)', 'A8L QUATTRO', 'Q5 QUATTRO', 'Q5 QUATTRO TDI (MODIFIED)', 'Q5 HYBRID QUATTRO', 'RS 7 QUATTRO', 'S3 QUATTRO', 'S4 QUATTRO', 'S5 QUATTRO', 'S5 CABRIOLET QUATTRO', 'S6 QUATTRO', 'S7 QUATTRO', 'S8 QUATTRO', 'SQ5 QUATTRO', '228I', '228I XDRIVE', '228I XDRIVE CABRIOLET', '328I XDRIVE', '328I XDRIVE GRAN TURISMO', '328I XDRIVE TOURING', '335I XDRIVE GRAN TURISMO', '428I CABRIOLET', '428I COUPE', '428I GRAN COUPE', '428I XDRIVE CABRIOLET', '428I XDRIVE COUPE', '428I XDRIVE GRAN COUPE', '435I CABRIOLET', '435I COUPE', '435I XDRIVE CABRIOLET', '435I XDRIVE COUPE', '435I XDRIVE GRAN COUPE', '528I XDRIVE', '535D XDRIVE', '535I XDRIVE', '535I XDRIVE GRAN TURISMO', '550I XDRIVE', '550I XDRIVE GRAN TURISMO', 'ACTIVEHYBRID 5', 'M235I', 'M235I CABRIOLET', 'M235I XDRIVE', 'M235I XDRIVE CABRIOLET', 'X4 XDRIVE35I', 'Z4 SDRIVE28I', 'Z4 SDRIVE35I', 'Z4 SDRIVE35IS', 'SONIC 5 RS', '500 HATCHBACK TURBO', 'Q50', 'Q50S AWD', 'Q50S RED SPORT', 'Q50 HYBRID', 'F-TYPE PROJECT 7 CONVERTIBLE', 'XJL 3.0 AWD PORTFOLIO', 'CHEROKEE 4X4 FFV', 'CHEROKEE 4X4', 'CHEROKEE TRAILHAWK 4X4', 'COMPASS 4X4 TRAIL RATED', 'GRAND CHEROKEE 4X4 (MDS)', 'GRAND CHEROKEE 4X4 DIESEL', 'GRAND CHEROKEE SRT 4X4 (MDS)', 'PATRIOT 4X4 TRAIL RATED', 'LR4', 'GS 200T', 'GS 200T F SPORT', 'GS 350', 'GS 350 F SPORT', 'IS 350', 'LS 460', 'LS 600H L', 'RC 200T', 'RC 350', 'CX-5 (SIL)', 'AMG GL 63 S', 'AMG GLA 45', 'AMG GLE 63 S COUPE 4MATIC', 'AMG S 63', 'AMG SLK 55', 'C 450 AMG SPORT 4MATIC', 'CLA 250 4MATIC FFV', 'CLS 400 4MATIC', 'E 250 BLUETEC 4MATIC', 'E 550 4MATIC', 'GL 350 BLUETEC 4MATIC', 'GL 450 4MATIC', 'GL 550 4MATIC', 'GLE 350D 4MATIC', 'GLE 350D 4MATIC COUPE', 'GLE 450 AMG SPORT 4MATIC COUPE', 'SLK 300', 'SLK 350', 'COOPER S PACEMAN ALL4', 'JOHN COOPER WORKS PACEMAN ALL4', 'ALTIMA 3.5', '911 GT3RS', 'CAYMAN GT4', '1500 HFE', '1500 (MDS)', '1500 ECODIESEL HFE', '1500 4X4 (MDS)', 'VENZA 4WD', 'S60 INSCRIPTION', 'S60 T6', 'S60 3.0T AWD', 'S80 T5', 'V60 3.0T AWD', 'XC60 T6', 'XC60 3.0T AWD', 'XC70 T5', 'XC70 T5 AWD', '4C', 'V12 VANTAGE S', 'A4 ULTRA', '320I', '320I XDRIVE', '740LI XDRIVE', 'M6', 'X3 XDRIVE28D', 'X3 XDRIVE28I', 'X3 XDRIVE35I', 'ENCORE (LE2 ENGINE)', 'ENCORE AWD (LE2 ENGINE)', 'EXPRESS 2500 PASSENGER', 'EXPRESS 3500 PASSENGER', '200 FFV', '200 AWD FFV', '300 (MDS)', '500 CABRIO', '500 HATCHBACK', '500 ABARTH CABRIO', '500 ABARTH HATCHBACK', 'EXPEDITION EL 4X4', 'SAVANA 2500 PASSENGER', 'SAVANA 3500 PASSENGER', 'YUKON DENALI 4WD', 'YUKON XL DENALI 4WD', 'Q50S RED SPORT AWD', 'Q60S RED SPORT AWD', 'Q70 HYBRID', 'QX60', 'QX60 HYBRID AWD', 'QX70 AWD', 'XJ R-SPORT 3.0 AWD', 'XJL PORTFOLIO 3.0 AWD', 'GRAND CHEROKEE SRT8', 'NEW COMPASS 4X4', 'PATRIOT 4X4', 'AVENTADOR COUPE LP 740', 'AVENTADOR ROADSTER LP 740', 'CT 200H', 'IS 200T', 'LS 460 AWD', 'LS 460 L AWD', 'NX 200T AWD', 'NX 200T AWD F SPORT', 'NAVIGATOR L 4X4', 'MAZDA5', 'MAZDA6 (I-ELOOP)', 'MAZDA6 (SIL)', 'AMG CLA 45', 'AMG CLS 63 S 4MATIC', 'AMG GLS 63', 'AMG S 63 CABRIOLET', 'AMG S 63 COUPE', 'CLS 550 4MATIC', 'E 400 CABRIOLET', 'E 400 COUPE', 'E 550 CABRIOLET', 'E 550 COUPE', 'MAYBACH S 600', 'S 400 4MATIC SWB', 'S 550 4MATIC SWB', 'S 550 4MATIC LWB', 'S 550 4MATIC CABRIOLET', 'S 550 4MATIC COUPE', 'S 600', 'COOPER S COUNTRYMAN  ALL4', 'LANCER 4WD', 'CC 4MOTION', 'S60 INSCRIPTION T5', 'S60 INSCRIPTION T5 AWD', 'S90 T5', 'V90 T5', 'XC60 T5', 'XC90 T5', 'DB11 V12', 'A8', 'Q3', 'R8', 'R8 QUATTRO', 'RS 5', 'RS 7', '328D XDRIVE', '328D XDRIVE TOURING', '340I', '340I XDRIVE', '340I XDRIVE GRAN TURISMO', '640I XDRIVE CABRIOLET', '650I XDRIVE CABRIOLET', '650I XDRIVE COUPE', '750I XDRIVE SWB', 'M2', 'M3', 'M6 CABRIOLET', 'M6 COUPE', 'M760I XDRIVE', 'X4 XDRIVE28I', 'X5 XDRIVE35D', 'X5 XDRIVE35I', 'X5 M', 'CT6', 'SILVERADO EASSIST 4WD', 'SONIC 5', '500 ABARTH', '500X', 'F-150 RAPTOR 4WD', 'SIERRA EASSIST 4WD', 'Q50 HYBRID AWD', 'QX30', 'QX30 AWD', 'CHEROKEE 4X4 ACTIVE DRIVE I FFV', 'NEW WRANGLER 4X4', 'NEW WRANGLER UNLIMITED 4X4', 'WRANGLER JK 4X4', 'WRANGLER JK UNLIMITED 4X4', 'K900', 'GS 450H', 'LS 500', 'LS 500H', 'CX-5 ', 'MAZDA3 4-DOOR (I-ELOOP)', 'MAZDA3 5-DOOR (I-ELOOP)', 'AMG C 63 CABRIOLET', 'AMG C 63 COUPE', 'AMG E 43 4MATIC', 'AMG E 63 S 4MATIC', 'AMG E 63 S 4MATIC WAGON', 'AMG G 65', 'AMG S 63 4MATIC', 'AMG S 63 4MATIC CABRIOLET', 'AMG S 63 4MATIC COUPE', 'AMG SL 65', 'E 400 4MATIC', 'E 400 4MATIC CABRIOLET', 'E 400 4MATIC COUPE', 'E 400 4MATIC WAGON', 'GLE 550 4MATIC', 'S 560 4MATIC COUPE', '911 TURBO S EXCLUSIVE', '1500 FFV', '1500 4X4 FFV', 'COROLLA LE ECO (1-MODE)', 'COROLLA LE ECO (2-MODE)', 'RAV4 LE/XLE', 'RAV4 LIMITED/SE AWD', 'S60 T5 AWD', 'S60 POLESTAR', 'S60 CC T5 AWD', 'V60 T5 AWD', 'V60 POLESTAR', 'V90 CC T5 AWD', '4C COUPE', 'A4', 'RS 5 COUPE', 'RS 5 SPORTBACK', '330I XDRIVE', '330I XDRIVE GRAN TURISMO', '330I XDRIVE TOURING', '530I XDRIVE', '540I XDRIVE', '640I XDRIVE GRAN COUPE', '640I XDRIVE GRAN TURISMO', '650I XDRIVE GRAN COUPE', '750I XDRIVE', '750LI XDRIVE', 'ALPINA B6 XDRIVE GRAN COUPE', 'M5', 'M550I XDRIVE', 'M6 GRAN COUPE', 'M760LI XDRIVE', 'X6 XDRIVE35I', 'X6 XDRIVE50I', 'X6 M', 'CORVETTE Z06', 'CORVETTE ZR1', 'SILVERADO 4WD TRAIL BOSS', 'SILVERADO LD 4WD', 'TRAX 4WD', '300 FFV', '300 AWD FFV', '500', 'F-150 (PAYLOAD PKG)', 'F-150 4X4 (LT TIRE PKG)', 'F-150 4X4 (PAYLOAD PKG)', 'F-150 FFV 4X4 (LT TIRE PKG)', 'F-150 FFV 4X4 (PAYLOAD PKG)', 'T-150 WAGON', 'SIERRA LTD 4WD', 'Q70 AWD', 'F-PACE 20D', 'F-PACE 35T', 'XE 20D AWD', 'XE 25T AWD', 'XE 35T AWD', 'XF 20D AWD', 'XF 35T AWD', 'GRAND CHEROKEE 4X4 ECODIESEL', 'WRANGLER JL 4X4', 'WRANGLER JL UNLIMITED 4X4', 'RANGE ROVER VELAR D180', 'UX 250H', 'GHIBLI SQ4', 'QUATTROPORTE SQ4', 'CX-5 DIESEL 4WD', 'CX-9', 'A 220', 'A 220 4MATIC', 'A 250', 'A 250 4MATIC', 'AMG CLA 45 4MATIC', 'AMG E 53 4MATIC+ WAGON', 'AMG GLA 45 4MATIC', 'AMG GLC 43 4MATIC', 'AMG GLC 43 4MATIC COUPE', 'AMG GLE 43 4MATIC', 'AMG GLE 43 4MATIC COUPE', 'AMG GLE 63 S 4MATIC', 'AMG GLE 63 S 4MATIC COUPE', 'AMG GLS 63 4MATIC', 'AMG GT 53 4MATIC+ COUPE', 'AMG GT 63 4MATIC+ COUPE', 'AMG GT 63 S 4MATIC+ COUPE', 'AMG S 65 CABRIOLET', 'AMG S 65 COUPE', 'AMG SL 63', 'AMG SLC 43', 'B 250', 'B 250 4MATIC', 'CLA 250', 'CLA 250 4MATIC', 'E 300 4MATIC', 'E 450 4MATIC', 'E 450 4MATIC WAGON', 'GLA 250 4MATIC', 'GLC 300 4MATIC', 'GLC 300 4MATIC COUPE', 'GLE 400 4MATIC', 'GLS 450 4MATIC', 'GLS 550 4MATIC', 'S 560 CABRIOLET', 'SL 450', 'MIRAGE G4', '911 CARRERA', '911 CARRERA CABRIOLET', '911 CARRERA GTS', '911 CARRERA GTS CABRIOLET', '911 CARRERA T', '911 CARRERA 4', '911 CARRERA 4 CABRIOLET', '911 CARRERA 4 GTS', '911 CARRERA 4 GTS CABRIOLET', '911 GT2 RS', '911 GT3', '911 GT3 RS', '911 GT3 TOURING', '911 SPEEDSTER', '911 TARGA 4', '911 TARGA 4 GTS', '911 TARGA 4S', '911 TURBO', '911 TURBO CABRIOLET', '911 TURBO S', '911 TURBO S CABRIOLET', '911 TURBO S EXCLUSIVE CABRIOLET', '1500 CLASSIC ECODIESEL', '1500 CLASSIC FFV', '1500 CLASSIC 4X4 ECODIESEL', '1500 CLASSIC 4X4 FFV', 'TACOMA 4WD D-CAB OFF-ROAD', 'ATLAS 4MOTION', 'GOLF SPORTWAGEN 4MOTION', 'S90 T5 AWD', 'V90 T6 AWD', 'V90 CC T6 AWD', '4C SPIDER', 'DB11 V8', 'DB11 AMR', 'VANTAGE V8', 'A3', 'A3 QUATTRO', 'A3 CABRIOLET QUATTRO', 'A4 QUATTRO', 'A4 ALLROAD QUATTRO', 'A5 QUATTRO', 'A5 CABRIOLET QUATTRO', 'A5 SPORTBACK QUATTRO', 'A6 QUATTRO', 'A6 ALLROAD', 'A7 QUATTRO', 'A8L', 'Q3 QUATTRO', 'Q5', 'Q7', 'Q8', 'R8 COUPE', 'R8 SPYDER', 'RS 3', 'S3', 'S4', 'S5', 'S5 CABRIOLET', 'S5 SPORTBACK', 'S6', 'S7', 'S8', 'SQ5', '230I CABRIOLET', '230I XDRIVE CABRIOLET', '230I COUPE', '230I XDRIVE COUPE', '330I XDRIVE SEDAN', '430I XDRIVE CABRIOLET', '430I COUPE', '430I XDRIVE COUPE', '430I XDRIVE GRAN COUPE', '440I XDRIVE CABRIOLET', '440I COUPE', '440I XDRIVE COUPE', '440I XDRIVE GRAN COUPE', '530I XDRIVE SEDAN', '540I XDRIVE SEDAN', '750I XDRIVE SEDAN', '750LI XDRIVE SEDAN', 'ALPINA B7 XDRIVE', 'M2 COMPETITION', 'M240I CABRIOLET', 'M240I XDRIVE CABRIOLET', 'M240I COUPE', 'M240I COUPE M PERFORMANCE', 'M240I XDRIVE COUPE', 'M240I XDRIVE COUPE M PERFORMANCE', 'M340I XDRIVE SEDAN', 'M4 CABRIOLET', 'M4 CABRIOLET COMPETITION', 'M4 COUPE', 'M4 COUPE COMPETITION', 'M4 CS', 'M5 SEDAN', 'M5 COMPETITION', 'M550I XDRIVE SEDAN', 'M760I XDRIVE SEDAN', 'M8 CABRIOLET', 'M8 CABRIOLET COMPETITION', 'M8 COUPE', 'M8 COUPE COMPETITION', 'M8 GRAN COUPE', 'M8 GRAN COUPE COMPETITION', 'M850I XDRIVE CABRIOLET', 'M850I XDRIVE COUPE', 'M850I XDRIVE GRAN COUPE', 'X1 XDRIVE28I', 'X2 XDRIVE28I', 'X2 M35I', 'X3 XDRIVE30I', 'X3 M', 'X3 M COMPETITION', 'X3 M40I', 'X4 XDRIVE30I', 'X4 M', 'X4 M COMPETITION', 'X4 M40I', 'X5 XDRIVE40I', 'X5 XDRIVE50I', 'X5 M50I', 'X6 XDRIVE40I', 'X6 M50I', 'X7 XDRIVE40I', 'X7 XDRIVE50I', 'X7 M50I', 'Z4 SDRIVE30I', 'Z4 M40I', 'CT4', 'CT4 AWD', 'CT4-V', 'CT4-V AWD', 'CT5', 'CT5 AWD', 'CT5-V', 'CT5-V AWD', 'CT6 AWD', 'ESCALADE 4WD', 'XT4', 'XT4 AWD', 'XT5', 'XT5 AWD', 'XT6 AWD', 'CAMARO ZL1', 'COLORADO 4WD', 'COLORADO ZR2 4WD', 'SILVERADO WT 4WD', 'SILVERADO 4WD FFV', 'SILVERADO 4WD', 'SILVERADO 4WD CUSTOM TRAIL BOSS', 'SILVERADO 4WD LT TRAIL BOSS', 'SUBURBAN 4WD FFV', 'SUBURBAN 4WD', 'TAHOE 4WD FFV', 'TAHOE 4WD', '300', '300 AWD', '124 SPIDER', '500L', '500X AWD', 'EXPEDITION 4X4', 'EXPEDITION MAX 4X4', 'F-150 (LT TIRE PKG)', 'F-150', 'F-150 FFV', 'F-150 FFV (LT TIRE PKG)', 'F-150 FFV (PAYLOAD PKG)', 'F-150 4X4 XL/XLT', 'F-150 4X4', 'F-150 4X4 LIMITED', 'F-150 FFV 4X4', 'F-150 RAPTOR 4X4', 'RANGER 4WD', 'SHELBY GT350 MUSTANG', 'SHELBY GT500 MUSTANG', 'T-150 WAGON FFV', 'T-150 WAGON FFV 4WD', 'G70', 'G70 AWD', 'G80 AWD', 'G90 AWD', 'CANYON 4WD', 'SIERRA WT 4WD', 'SIERRA 4WD FFV', 'SIERRA 4WD', 'SIERRA 4WD AT4', 'YUKON 4WD FFV', 'YUKON 4WD', 'YUKON XL 4WD FFV', 'YUKON XL 4WD', 'Q50 AWD', 'Q50 AWD RED SPORT', 'Q60 AWD', 'Q60 AWD RED SPORT', 'QX50 AWD', 'QX60 AWD', 'QX80 4WD', 'E-PACE P250', 'E-PACE P300', 'F-PACE 25T', 'F-PACE 30T', 'F-TYPE P300 CONVERTIBLE', 'F-TYPE P300 COUPE', 'XE P250 AWD', 'XE P300 AWD', 'XF 25T AWD', 'XF 30T AWD', 'CHEROKEE 4X4 ACTIVE DRIVE I', 'CHEROKEE 4X4 ACTIVE DRIVE II', 'CHEROKEE 4X4 ACTIVE DRIVE LOCK', 'COMPASS 4X4', 'GLADIATOR 4X4', 'GRAND CHEROKEE 4X4', 'GRAND CHEROKEE 4X4 TRACKHAWK', 'GRAND CHEROKEE 4X4 SRT', 'RENEGADE 4X4 TRAILHAWK', 'RENEGADE 4X4', 'WRANGLER 4X4 ETORQUE', 'WRANGLER 4X4', 'WRANGLER UNLIMITED 4X4 ECODIESEL', 'WRANGLER UNLIMITED 4X4 ETORQUE', 'WRANGLER UNLIMITED 4X4', 'FORTE 5', 'DISCOVERY TD6 DIESEL', 'DISCOVERY SPORT P250', 'DISCOVERY SPORT P290', 'RANGE ROVER 3.0', 'RANGE ROVER TD6 DIESEL', 'RANGE ROVER 5.0 SUPERCHARGED', 'RANGE ROVER 5.0 SUPERCHARGED LWB', 'RANGE ROVER SPORT 3.0', 'RANGE ROVER SPORT TD6 DIESEL', 'RANGE ROVER EVOQUE P250', 'RANGE ROVER EVOQUE P300', 'RANGE ROVER VELAR P250', 'RANGE ROVER VELAR P300', 'RANGE ROVER VELAR P340', 'RANGE ROVER VELAR P380', 'ES 300H', 'ES 350', 'ES 350 F SPORT', 'GS 350 AWD', 'GX 460', 'IS 300', 'IS 300 AWD', 'IS 350 AWD', 'LC 500', 'LC 500H', 'LS 500 AWD', 'LS 500H AWD', 'LX 570', 'NX 300 AWD', 'NX 300 AWD F SPORT', 'NX 300H AWD', 'RC 300 AWD', 'RC 350 AWD', 'RX 350 AWD', 'RX 350 L AWD', 'RX 450H AWD', 'RX 450H L AWD', 'UX 200', 'UX 250H AWD', 'NAVIGATOR 4X4', 'GHIBLI S Q4', 'QUATTROPORTE S Q4', 'CX-3', 'CX-3 (SIL)', 'CX-3 4WD', 'CX-30', 'CX-30 4WD', 'CX-30 4WD (CYLINDER DEACTIVATION)', 'CX-5', 'CX-5 (CYLINDER DEACTIVATION)', 'CX-5 4WD', 'CX-5 4WD (CYLINDER DEACTIVATION)', 'CX-5 TURBO 4WD', 'CX-9 4WD', 'MAZDA3 4-DOOR (SIL)', 'MAZDA3 4-DOOR', 'MAZDA3 4-DOOR (CYLINDER DEACTIVATION)', 'MAZDA3 4-DOOR 4WD', 'MAZDA3 5-DOOR', 'MAZDA3 5-DOOR (SIL)', 'MAZDA3 5-DOOR 4WD', 'MAZDA6', 'MAZDA6 TURBO', 'MX-5', 'MX-5 (SIL)', 'AMG C 43 4MATIC', 'AMG C 43 4MATIC CABRIOLET', 'AMG C 43 4MATIC COUPE', 'AMG C 43 4MATIC WAGON', 'AMG C 63', 'AMG C 63 S', 'AMG C 63 S CABRIOLET', 'AMG C 63 S COUPE', 'AMG CLS 53 4MATIC+', 'AMG E 53 4MATIC+', 'AMG E 53 4MATIC+ CABRIOLET', 'AMG E 53 4MATIC+ COUPE', 'AMG E 63 S 4MATIC+', 'AMG E 63 S 4MATIC+ WAGON', 'AMG G 63', 'AMG GLC 63 S 4MATIC+', 'AMG GLC 63 S 4MATIC+ COUPE', 'AMG S 63 4MATIC+', 'AMG S 63 4MATIC+ CABRIOLET', 'AMG S 63 4MATIC+ COUPE', 'AMG S 65', 'C 300 4MATIC', 'C 300 4MATIC CABRIOLET', 'C 300 4MATIC COUPE', 'C 300 4MATIC WAGON', 'CLS 450 4MATIC', 'E 450 4MATIC CABRIOLET', 'E 450 4MATIC COUPE', 'G 550', 'MAYBACH S 560 4MATIC', 'MAYBACH S 650', 'S 450 4MATIC SWB', 'S 560 4MATIC', 'S 560 4MATIC SWB', 'SL 550', 'SLC 300', 'COOPER 3 DOOR', 'COOPER 5 DOOR', 'COOPER CLUBMAN ALL4', 'COOPER COUNTRYMAN ALL4', 'COOPER S 3 DOOR', 'COOPER S 5 DOOR', 'COOPER S CLUBMAN ALL4', 'COOPER S COUNTRYMAN ALL4', 'JOHN COOPER WORKS 3 DOOR', 'JOHN COOPER WORKS CLUBMAN ALL4', 'JOHN COOPER WORKS COUNTRYMAN ALL4', 'ECLIPSE CROSS 4WD', 'OUTLANDER 4WD', 'RVR 4WD', '370Z', '370Z ROADSTER', 'ARMADA 4WD', 'FRONTIER 4WD', 'NV200 CARGO VAN', 'PATHFINDER 4WD', 'PATHFINDER 4WD PLATINUM', 'TITAN 4WD', 'TITAN 4WD PRO-4X', '911 CARRERA S', '911 CARRERA S CABRIOLET', '911 CARRERA 4S', '911 CARRERA 4S CABRIOLET', 'PANAMERA 4', 'PANAMERA 4 EXECUTIVE', 'PANAMERA 4 ST', 'PANAMERA 4S', 'PANAMERA 4S EXECUTIVE', 'PANAMERA 4S ST', '1500 ECODIESEL', '1500 HFE ETORQUE', '1500', '1500 ETORQUE', '1500 4X4 ECODIESEL', '1500 4X4', '1500 4X4 ETORQUE', '1500 CLASSIC', '1500 CLASSIC 4X4', 'IMPREZA 4-DOOR AWD', 'IMPREZA 5-DOOR AWD', '4RUNNER 4WD', '4RUNNER 4WD (PART-TIME 4WD)', '86', 'RAV4', 'RAV4 AWD', 'RAV4 AWD TRD OFF-ROAD', 'RAV4 HYBRID AWD', 'SEQUOIA 4WD', 'TACOMA 4WD', 'TACOMA 4WD D-CAB TRD OFF-ROAD/PRO', 'TUNDRA 4WD', 'ARTEON 4MOTION', 'ATLAS CROSS SPORT 4MOTION', 'TIGUAN 4MOTION', 'S60 T5', 'S60 T6 AWD', 'S90 T6 AWD', 'V60 T5', 'V60 T6 AWD', 'V60 CC T5 AWD', 'XC40 T4 AWD', 'XC40 T5 AWD', 'XC60 T5 AWD', 'XC60 T6 AWD', 'XC90 T5 AWD', 'XC90 T6 AWD']\n"
     ]
    }
   ],
   "source": [
    "# Respuesta 8.2\n",
    "result_8_2 = [elem for elem in data[\"Model\"].unique(\n",
    "        ) if re.search(\"[0-9]\", elem)]\n",
    "print(result_8_2)\n",
    "\n",
    "# Se aplica el mismo proceso del ejercicio anterior solo que la iteracion de\n",
    "# los elementos se los hace en la columna data[\"Model\"] y se busca si posee\n",
    "# algun numero entre de 0-9\n",
    "\n",
    "# Una posible solucion para determinar que en en la col \"Vehicle Class\" tenga\n",
    "# algun numero y \"Model\" en exista algun elemento con \"SUV -\" sería:\n",
    "# [(elem1, elem2) for elem1, elem2 in data[[\n",
    "#     \"Model\", \"Vehicle Class\"]].values if re.search(\n",
    "#         \"SUV -\", elem2) and re.search(\"[0-9]\", elem1)]"
   ]
  },
  {
   "cell_type": "markdown",
   "metadata": {},
   "source": [
    "# Ejercicio 9\n",
    "\n",
    "Utilizando **Dictionary Comprehensions**, cread un diccionario tal que:\n",
    "\n",
    "* Sus claves correspondan con el campo \"Make\". Considerad solo las ciudades que aparecen en las 30 primeras entradas del `co2_emissions_canada.csv`.\n",
    "\n",
    "* El valor asociado con cada clave (fabricante, columna \"Make\") sea una lista de los modelos de los vehículos. Es importante que, para cada fabricante, los modelos no aparezcan repetidos.\n",
    "\n",
    "<span style=\"font-family: Courier New; background-color: #82b74b; color: #000000; padding: 3px; \">SM</span> **(1 punto)**"
   ]
  },
  {
   "cell_type": "code",
   "execution_count": 30,
   "metadata": {},
   "outputs": [
    {
     "name": "stderr",
     "output_type": "stream",
     "text": [
      "5:17: E128 continuation line under-indented for visual indent\n"
     ]
    },
    {
     "name": "stdout",
     "output_type": "stream",
     "text": [
      "ASTON MARTIN : ['DB9', 'V12 VANTAGE S', 'VANTAGE GT', 'RAPIDE S', 'RAPIDE AMR']\n",
      "BENTLEY : ['FLYING SPUR', 'MULSANNE', 'CONTINENTAL SUPERSPORTS', 'CONTINENTAL GT3-R', 'CONTINENTAL GT CONVERTIBLE']\n",
      "AUDI : ['Q7 TDI (MODIFIED)', 'S7 QUATTRO', 'A3 QUATTRO', 'A3 CABRIOLET QUATTRO', 'R8 SPYDER']\n",
      "CHEVROLET : ['SUBURBAN', 'TRAX', 'TAHOE FFV', 'EQUINOX FFV', 'CORVETTE ZR1']\n",
      "ACURA : ['ILX', 'RDX AWD', 'TSX', 'NSX', 'MDX SH-AWD A-SPEC']\n",
      "CADILLAC : ['ESCALADE ESV 4WD', 'CTS-V', 'XT4', 'CT5-V', 'ESCALADE 4WD']\n",
      "BMW : ['M850I XDRIVE GRAN COUPE', '330I XDRIVE', 'M4 COUPE COMPETITION', 'X7 M50I', 'X5 XDRIVE35D']\n"
     ]
    }
   ],
   "source": [
    "# Respuesta 9\n",
    "Maker = set(data[\"Make\"].head(30))\n",
    "\n",
    "Vehicule_model = {k: list(set(data[data[\"Make\"] == k][\"Model\"]))\n",
    "                for k in Maker}\n",
    "\n",
    "for k, v in Vehicule_model.items():\n",
    "    print(f\"{k} : {v[:5]}\")\n",
    "\n",
    "# Seleccionamos la columna del df que deseamos \"Maker\" a su vez tomamos solo\n",
    "# sus primeros 30 elemntos con head(30) y atravez de la clase set podemos\n",
    "# crear un conjunto de sus elementos sin repetirse\n",
    "# con dictionary comprenhension vamos a asiganar los cada elemeto del conjunto\n",
    "# Maker como clave, y mediante data[data[\"Make\"] == k identificamos si cada\n",
    "# elemento de la col \"Make\" es igual al elemeto del conjunto Maker, si se\n",
    "# cumple tomamos el valor de la columna \"Model\", a este resultado lo\n",
    "# convertimos en elementos de un conjunto con set y a su vez lo pasamos en\n",
    "# forma de lista porque se va a tratar de los valores asociados a cada key.\n",
    "# Finalmente usamos un ciclo for para ver los resultados de manera facil."
   ]
  },
  {
   "cell_type": "markdown",
   "metadata": {},
   "source": [
    "# Ejercicio 10\n",
    "\n",
    "Definid una **función** que reciba como parámetros:\n",
    "\n",
    "1) DataFrame, obtenido al principio de este notebook.\n",
    "\n",
    "2) Fabricante.\n",
    "\n",
    "3) Modelo, modelo del vehículo.\n",
    "\n",
    "4) Tipo de consumo: Ciudad o Autopista.\n",
    "\n",
    "Y devuelva el consumo de carburante para el tipo de uso definido. Comprobad que la función se ejecuta correctamente invocándola con  Fabricante: \"BMW\", Modelo: \"M8 COUPE COMPETITION\", Tipo de consumo: \"City\".\n",
    "\n",
    "**Nota:** Si llamáis a la función esta debe contemplar que pueden estar mal escritos los parámetros de entrada y ser capaz de gestionar estos errores.\n",
    "\n",
    "<span style=\"font-family: Courier New; background-color: #82b74b; color: #000000; padding: 3px; \">SM</span> **(1 punto)**"
   ]
  },
  {
   "cell_type": "code",
   "execution_count": 31,
   "metadata": {},
   "outputs": [
    {
     "name": "stderr",
     "output_type": "stream",
     "text": [
      "2:80: E501 line too long (113 > 79 characters)\n"
     ]
    }
   ],
   "source": [
    "# Respuesta 10\n",
    "def fuel_consumption(df: pd.DataFrame, maker: str, vehicle_model: str, consuption: str) -> pd.core.series.Series:\n",
    "    maker, vehicle_model, consuption = maker.upper(), vehicle_model.upper(\n",
    "        ), consuption.upper()\n",
    "    a = maker in df[\"Make\"].unique()\n",
    "    b = vehicle_model in df[\"Model\"].unique()\n",
    "    if a and b:\n",
    "        if consuption == \"CITY\":\n",
    "            result = df[(df[\"Make\"] == maker) & (data[\n",
    "                \"Model\"] == vehicle_model)][\"Fuel Consumption City (L/100 km)\"]\n",
    "        elif consuption == \"HIGHWAY\":\n",
    "            result = df[(df[\"Make\"] == maker) & (data[\n",
    "                \"Model\"] == vehicle_model)][\"Fuel Consumption Hwy (L/100 km)\"]\n",
    "        else:\n",
    "            result = \"Por favor corrija el tipo de consumo\"\n",
    "    else:\n",
    "        result = (\"Por favor corrija el modelo del vehículo\") if a else (\n",
    "            \"Porfavor corrija el nombre del fabricante\")\n",
    "    return result\n",
    "\n",
    "# La funcion recibe los parámetros especificados en el enunciado,\n",
    "# posteriormente se para cumplir la condicion dada de errores en la\n",
    "# escritura se procede a cambiarlos a mayusculas las variables de\n",
    "# maker, vehicle_model y consuption con el comando upper(), despues\n",
    "# se verifica si el fabricante y el modelo dato se encuentran en su\n",
    "# columna del df correspondiente, si ambos son verdadero entonces se\n",
    "# continua con el algoritmo, caso contrario nos otorga un mensaje de\n",
    "# de que parametro debe correjir; si a y b cumplen su condicion es\n",
    "# decir son verdadero entonces se analiza si el tipo de consumo se\n",
    "# es\"City\" o \"Highway\", en ambos casos se analiza si obtiene el\n",
    "# valor de consumo edel elemento que cumpla con # df[\"Make\"] == maker\n",
    "# y data[\"Model\"] == vehicle_model, el tipo de consumo es diferente\n",
    "# se obtiene un mensaje indicando que debe corregir dicho valor."
   ]
  },
  {
   "cell_type": "code",
   "execution_count": 32,
   "metadata": {},
   "outputs": [
    {
     "name": "stdout",
     "output_type": "stream",
     "text": [
      "El resultado de consumo es de 16.0 (L/100 km)\n"
     ]
    }
   ],
   "source": [
    "resul_10 = fuel_consumption(data, \"BMW\", \"M8 COUPE COMPETITION\", \"City\")\n",
    "\n",
    "print(resul_10) if type(resul_10) == str else print(\n",
    "    f'El resultado de consumo es de {str(resul_10.values[0]) } (L/100 km)')\n",
    "\n",
    "# Se hace el llamado a la funcion con los parámetros especificados en el\n",
    "# enunciado, ademas se puede colocar sus nombres en minusculas si se desea\n",
    "# para ver el resultado se aplica un condicional donde si el retorno de la\n",
    "# funcion es string imprima solo aquel string pero sino lo es se debe tomar\n",
    "# aquel valor retornado y transformarlo a string"
   ]
  }
 ],
 "metadata": {
  "interpreter": {
   "hash": "360c0910c5b5518c3e85074a2c2053b33b5560da6c103bf5734fb3ba6663ee65"
  },
  "kernelspec": {
   "display_name": "Python 3.8.12 ('env_DS')",
   "language": "python",
   "name": "python3"
  },
  "language_info": {
   "codemirror_mode": {
    "name": "ipython",
    "version": 3
   },
   "file_extension": ".py",
   "mimetype": "text/x-python",
   "name": "python",
   "nbconvert_exporter": "python",
   "pygments_lexer": "ipython3",
   "version": "3.8.12"
  }
 },
 "nbformat": 4,
 "nbformat_minor": 5
}
